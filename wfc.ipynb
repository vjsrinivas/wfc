{
 "cells": [
  {
   "cell_type": "code",
   "execution_count": 135,
   "metadata": {},
   "outputs": [],
   "source": [
    "import os\n",
    "import sys\n",
    "import time\n",
    "from copy import deepcopy\n",
    "\n",
    "import matplotlib.pyplot as plt\n",
    "import numpy as np\n",
    "import cv2"
   ]
  },
  {
   "cell_type": "code",
   "execution_count": 332,
   "metadata": {},
   "outputs": [],
   "source": [
    "class Tile():\n",
    "    def __init__(self, img, index):\n",
    "        self.img = img\n",
    "        self.index = index\n",
    "        self.neighbors = {\n",
    "            'top': [],\n",
    "            'bottom': [],\n",
    "            'left': [],\n",
    "            'right': []\n",
    "        }\n",
    "        \n",
    "    def __str__(self):\n",
    "        plt.figure(figsize = (2, 2))\n",
    "        plt.imshow(self.img)\n",
    "        plt.show()\n",
    "        return \"Tile object\"\n",
    "    \n",
    "    def __getitem__(self, idx):\n",
    "        return self.img[idx]\n",
    "        \n",
    "    def add_neighbor(self, direction, tile):\n",
    "        self.neighbors[direction].append(tile)"
   ]
  },
  {
   "cell_type": "code",
   "execution_count": 333,
   "metadata": {},
   "outputs": [],
   "source": [
    "def check_side(side1, side2):\n",
    "    ratio = 0.8\n",
    "    num_pixels = np.prod(side1.shape)\n",
    "    threshold = ratio * num_pixels\n",
    "    if np.sum(side1 == side2) > threshold:\n",
    "        return True\n",
    "    elif np.sum(side1[:-1] == side2[1:]) > threshold:\n",
    "        return True\n",
    "    elif np.sum(side1[1:] == side2[:-1]) > threshold:\n",
    "        return True"
   ]
  },
  {
   "cell_type": "code",
   "execution_count": 334,
   "metadata": {},
   "outputs": [],
   "source": [
    "def check_and_add(tile1, tile2):\n",
    "    if check_side(tile1[0, :], tile2[-1, :]):\n",
    "        tile1.add_neighbor('top', tile2)\n",
    "        tile2.add_neighbor('bottom', tile1)\n",
    "    if check_side(tile1[-1, :], tile2[0, :]):\n",
    "        tile1.add_neighbor('bottom', tile2)\n",
    "        tile2.add_neighbor('top', tile1)\n",
    "    if check_side(tile1[:, 0], tile2[:, -1]):\n",
    "        tile1.add_neighbor('left', tile2)\n",
    "        tile2.add_neighbor('right', tile1)\n",
    "    if check_side(tile1[:, -1], tile2[:, 0]):\n",
    "        tile1.add_neighbor('right', tile2)\n",
    "        tile2.add_neighbor('left', tile1)"
   ]
  },
  {
   "cell_type": "code",
   "execution_count": 335,
   "metadata": {},
   "outputs": [],
   "source": [
    "img = cv2.imread('wfc-circuit-1.png')\n",
    "\n",
    "start = 107\n",
    "end = 121\n",
    "tiles = []\n",
    "idx = 0\n",
    "for i in range(13):\n",
    "    tile = Tile(img[start:end, :14, :], idx)\n",
    "    idx += 1\n",
    "    start += 16\n",
    "    end += 16\n",
    "    tiles.append(tile)"
   ]
  },
  {
   "cell_type": "code",
   "execution_count": 336,
   "metadata": {},
   "outputs": [],
   "source": [
    "# rotate and flip tiles to augment data\n",
    "N = len(tiles)\n",
    "for i in range(N):\n",
    "    tile = tiles[i]\n",
    "    img = deepcopy(tile.img)\n",
    "    img90 = cv2.rotate(img, cv2.ROTATE_90_CLOCKWISE)\n",
    "    img180 = cv2.rotate(img, cv2.ROTATE_180)\n",
    "    img270 = cv2.rotate(img, cv2.ROTATE_90_COUNTERCLOCKWISE)\n",
    "    if not np.all(img90 == img):\n",
    "        new_tile = Tile(img90, idx)\n",
    "        idx += 1\n",
    "        tiles.append(new_tile)\n",
    "    if not np.all(img180 == img) and not np.all(img180 == img90):\n",
    "        new_tile = Tile(img180, idx)\n",
    "        idx += 1\n",
    "        tiles.append(new_tile)\n",
    "    if not np.all(img270 == img) and not np.all(img270 == img90) and not np.all(img270 == img180):\n",
    "        new_tile = Tile(img270, idx)\n",
    "        idx += 1\n",
    "        tiles.append(new_tile)"
   ]
  },
  {
   "cell_type": "code",
   "execution_count": 337,
   "metadata": {},
   "outputs": [],
   "source": [
    "for i in range(len(tiles)):\n",
    "    for j in range(i+1, len(tiles)):\n",
    "        check_and_add(tiles[i], tiles[j])"
   ]
  },
  {
   "cell_type": "code",
   "execution_count": 321,
   "metadata": {},
   "outputs": [],
   "source": [
    "def reduce_prob(canvas, row, col, choices, tiles):\n",
    "    neighbor_choices = []\n",
    "    valid_choices = []\n",
    "    for i, j, direction in [[row-1, col, 'bottom'], [row+1, col, 'top'], [row, col-1, 'right'], [row, col+1, 'left']]:\n",
    "        neighbor_tiles = []\n",
    "        for tile_idx in choices[(i, j)]:\n",
    "            neighbors = tiles[tile_idx].neighbors[direction]\n",
    "            \n",
    "        neighbor_choices.append()\n",
    "    min_len = 1000\n",
    "    for i in range(len(neighbor_choices)):\n",
    "        length = len(neighbor_choices[i])\n",
    "        if length < min_len:\n",
    "            min_idx = i\n",
    "            min_len = length\n",
    "    for choice in neighbor_choices[i]:\n",
    "        vote = 0\n",
    "        for neighbor in neighbor_choices: # check if in possible neighbors list\n",
    "            if choice in neighbor:\n",
    "                vote += 1\n",
    "        if vote == len(neighbor_choices):\n",
    "            valid_choices.append(choice)\n",
    "    choices[(row, col)] = valid_choices"
   ]
  },
  {
   "cell_type": "code",
   "execution_count": 322,
   "metadata": {},
   "outputs": [],
   "source": [
    "rows = 10\n",
    "cols = 10\n",
    "canvas = np.zeros(shape = (rows, cols))\n",
    "num_tiles = len(tiles)\n",
    "choices = {}\n",
    "for i in range(rows):\n",
    "    for j in range(cols):\n",
    "        choices[(i, j)] = np.arange(num_tiles).tolist()\n",
    "indices = []\n",
    "for i in range(rows):\n",
    "    for j in range(cols):\n",
    "        indices.append([i, j])\n",
    "idx_list = np.arange(len(indices)).tolist()\n",
    "idx = np.random.choice(idx_list)\n",
    "idx_list.remove(idx)\n",
    "row, col = indices[idx]\n",
    "state = np.random.choice(choices[(row,  col)])\n",
    "canvas[row,  col] = state\n",
    "choices[(row, col)] = [state]\n",
    "\n",
    "# compute new probability for 4 immediate neighbors\n",
    "for i, j in [[row-1, col], [row+1, col], [row, col-1], [row, col+1]]:\n",
    "    reduce_prob(canvas, i, j, choices)"
   ]
  },
  {
   "cell_type": "code",
   "execution_count": 325,
   "metadata": {},
   "outputs": [
    {
     "data": {
      "text/plain": [
       "array([[ 0.,  0.,  0.,  0.,  0.,  0.,  0.,  0.,  0.,  0.],\n",
       "       [ 0.,  0.,  0.,  0.,  0.,  0.,  0.,  0.,  0.,  0.],\n",
       "       [ 0.,  0.,  0.,  0.,  0.,  0.,  0.,  0.,  0.,  0.],\n",
       "       [ 0.,  0.,  0.,  0.,  0.,  0.,  0.,  0.,  0.,  0.],\n",
       "       [ 0., 34.,  0.,  0.,  0.,  0.,  0.,  0.,  0.,  0.],\n",
       "       [ 0.,  0.,  0.,  0.,  0.,  0.,  0.,  0.,  0.,  0.],\n",
       "       [ 0.,  0.,  0.,  0.,  0.,  0.,  0.,  0.,  0.,  0.],\n",
       "       [ 0.,  0.,  0.,  0.,  0.,  0.,  0.,  0.,  0.,  0.],\n",
       "       [ 0.,  0.,  0.,  0.,  0.,  0.,  0.,  0.,  0.,  0.],\n",
       "       [ 0.,  0.,  0.,  0.,  0.,  0.,  0.,  0.,  0.,  0.]])"
      ]
     },
     "execution_count": 325,
     "metadata": {},
     "output_type": "execute_result"
    }
   ],
   "source": [
    "canvas"
   ]
  },
  {
   "cell_type": "code",
   "execution_count": null,
   "metadata": {},
   "outputs": [],
   "source": [
    "for i in range(len(tiles)):\n",
    "    print(f\"Showing neighbors of tile {i}\")\n",
    "    print(tiles[i])\n",
    "    print('-------------------------------')\n",
    "    for key in tiles[0].neighbors:\n",
    "        for j in range(len(tiles[i].neighbors[key])):\n",
    "            print(key)\n",
    "            print(tiles[i].neighbors[key][j])\n",
    "    print('==========================================')"
   ]
  },
  {
   "cell_type": "code",
   "execution_count": null,
   "metadata": {},
   "outputs": [],
   "source": []
  }
 ],
 "metadata": {
  "kernelspec": {
   "display_name": "Python 3",
   "language": "python",
   "name": "python3"
  },
  "language_info": {
   "codemirror_mode": {
    "name": "ipython",
    "version": 3
   },
   "file_extension": ".py",
   "mimetype": "text/x-python",
   "name": "python",
   "nbconvert_exporter": "python",
   "pygments_lexer": "ipython3",
   "version": "3.6.5"
  }
 },
 "nbformat": 4,
 "nbformat_minor": 2
}
