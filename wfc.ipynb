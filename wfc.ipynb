{
 "cells": [
  {
   "cell_type": "code",
   "execution_count": 1,
   "metadata": {},
   "outputs": [],
   "source": [
    "import os\n",
    "import sys\n",
    "import time\n",
    "from copy import deepcopy\n",
    "\n",
    "import matplotlib.pyplot as plt\n",
    "import numpy as np\n",
    "import cv2\n",
    "\n",
    "from utils import *\n",
    "import imageio\n",
    "import warnings\n",
    "warnings.filterwarnings(\"ignore\", category=FutureWarning)"
   ]
  },
  {
   "cell_type": "code",
   "execution_count": 2,
   "metadata": {},
   "outputs": [],
   "source": [
    "original = cv2.imread('resources/wfc-circuit-1.png')\n",
    "\n",
    "start = 107\n",
    "end = 121\n",
    "tiles = []\n",
    "idx = 0\n",
    "for i in range(13):\n",
    "    tile = Tile(original[start:end, :14, :], idx)\n",
    "    idx += 1\n",
    "    start += 16\n",
    "    end += 16\n",
    "    tiles.append(tile)"
   ]
  },
  {
   "cell_type": "code",
   "execution_count": 3,
   "metadata": {},
   "outputs": [],
   "source": [
    "# rotate and flip tiles to augment data\n",
    "num_tiles = len(tiles)\n",
    "for i in range(num_tiles):\n",
    "    tile = tiles[i]\n",
    "    img = deepcopy(tile.img)\n",
    "    img90 = cv2.rotate(img, cv2.ROTATE_90_CLOCKWISE)\n",
    "    img180 = cv2.rotate(img, cv2.ROTATE_180)\n",
    "    img270 = cv2.rotate(img, cv2.ROTATE_90_COUNTERCLOCKWISE)\n",
    "    if not np.all(img90 == img):\n",
    "        new_tile = Tile(img90, idx)\n",
    "        idx += 1\n",
    "        tiles.append(new_tile)\n",
    "    if not np.all(img180 == img) and not np.all(img180 == img90):\n",
    "        new_tile = Tile(img180, idx)\n",
    "        idx += 1\n",
    "        tiles.append(new_tile)\n",
    "    if not np.all(img270 == img) and not np.all(img270 == img90) and not np.all(img270 == img180):\n",
    "        new_tile = Tile(img270, idx)\n",
    "        idx += 1\n",
    "        tiles.append(new_tile)"
   ]
  },
  {
   "cell_type": "code",
   "execution_count": 4,
   "metadata": {},
   "outputs": [],
   "source": [
    "for i in range(len(tiles)):\n",
    "    for j in range(i, len(tiles)):\n",
    "        check_and_add(tiles[i], tiles[j])"
   ]
  },
  {
   "cell_type": "code",
   "execution_count": 5,
   "metadata": {},
   "outputs": [],
   "source": [
    "# extra rules\n",
    "for direction in tiles[0].neighbors:\n",
    "    tiles[0].neighbors[direction].add(0)\n",
    "    \n",
    "tiles[19].neighbors['bottom'] = {0}\n",
    "tiles[18].neighbors['right'] = {0}\n",
    "tiles[17].neighbors['top'] = {0}\n",
    "tiles[4].neighbors['left'] = {0}\n",
    "\n",
    "for i in [5, 20, 21, 22]:\n",
    "    for direction in tiles[i].neighbors:\n",
    "        for j in [5, 20, 21, 22]:\n",
    "            if j in tiles[i].neighbors[direction]:\n",
    "                tiles[i].neighbors[direction].remove(j)\n",
    "                \n",
    "for i in [2, 13, 14, 15]:\n",
    "    for direction in tiles[i].neighbors:\n",
    "        for j in [2, 13, 14, 15]:\n",
    "            if j in tiles[i].neighbors[direction]:\n",
    "                tiles[i].neighbors[direction].remove(j)\n",
    "\n",
    "for i in [11, 32, 33, 34]:\n",
    "    for direction in tiles[i].neighbors:\n",
    "        for j in [11, 32, 33, 34]:\n",
    "            if j in tiles[i].neighbors[direction]:\n",
    "                tiles[i].neighbors[direction].remove(j)\n",
    "                \n",
    "for i in [2, 12, 13, 14, 15, 35]:\n",
    "    for direction in tiles[i].neighbors:\n",
    "        for j in [2, 12, 13, 14, 15, 35]:\n",
    "            if j in tiles[i].neighbors[direction]:\n",
    "                tiles[i].neighbors[direction].remove(j)\n",
    "                \n",
    "for i in [10, 11, 31, 32, 33, 34]:\n",
    "    for direction in tiles[i].neighbors:\n",
    "        for j in [10, 11, 31, 32, 33, 34]:\n",
    "            if j in tiles[i].neighbors[direction] and j != i:\n",
    "                tiles[i].neighbors[direction].remove(j)\n",
    "                \n",
    "# tiles[10].neighbors = {\n",
    "#     'top': {17, 23, 24, 28, 29, 30, 35},\n",
    "#     'bottom': {9, 15, 19, 23, 24, 26, 28, 30, 35},\n",
    "#     'left': {2, 4, 6, 7, 9, 12, 27, 28, 29},\n",
    "#     'right': {6, 7, 9, 12, 14, 18, 25, 29, 30}\n",
    "# }"
   ]
  },
  {
   "cell_type": "code",
   "execution_count": 6,
   "metadata": {},
   "outputs": [],
   "source": [
    "tile_idx_list = [x.idx for x in tiles]\n",
    "for tile in tiles:\n",
    "    for key in tile.neighbors:\n",
    "        neighbor_set = tile.neighbors[key]\n",
    "        tile.exclusions[key] = set(tile_idx_list) - set(neighbor_set)"
   ]
  },
  {
   "cell_type": "code",
   "execution_count": 7,
   "metadata": {},
   "outputs": [
    {
     "data": {
      "image/png": "[encoded data removed]",
      "text/plain": [
       "<Figure size 432x288 with 1 Axes>"
      ]
     },
     "metadata": {
      "needs_background": "light"
     },
     "output_type": "display_data"
    }
   ],
   "source": [
    "# np.random.seed(2)\n",
    "rows = 6\n",
    "cols = 10\n",
    "history = []\n",
    "retract = False\n",
    "num_tiles = len(tiles)\n",
    "observed = np.zeros(shape = (rows, cols))\n",
    "canvas = np.zeros(shape = (rows, cols), dtype = int) - 1\n",
    "entropy_board = np.zeros(shape = (rows, cols)) + num_tiles\n",
    "choices = {}\n",
    "for i in range(rows):\n",
    "    for j in range(cols):\n",
    "        choices[(i, j)] = np.arange(num_tiles).tolist()\n",
    "\n",
    "info = dict(\n",
    "    entropy_board = entropy_board,\n",
    "    observed = observed,\n",
    "    choices = choices,\n",
    "    history = history,\n",
    "    canvas = canvas,\n",
    "    tiles = tiles,\n",
    "    rows = rows,\n",
    "    cols = cols,\n",
    "    tile_idx_list = tile_idx_list\n",
    ")\n",
    "\n",
    "info_history = []\n",
    "info_history_full = []\n",
    "\n",
    "while not np.all(info['observed'] == True):\n",
    "    info_history.append(deepcopy(info))\n",
    "    info, retract = step(info)\n",
    "    info_history_full.append(deepcopy(info))\n",
    "    \n",
    "    while retract:\n",
    "        # undo one step\n",
    "        last_step = info['history'].pop()\n",
    "        last_row, last_col, last_choice, valid_choices = last_step\n",
    "        valid_choices.remove(last_choice)\n",
    "        if len(valid_choices) > 0:\n",
    "            info['choices'][(last_row, last_col)] = valid_choices\n",
    "        else:\n",
    "            info = info_history.pop()\n",
    "        info, retract = step(info, (last_row, last_col))\n",
    "        info_history_full.append(deepcopy(info))\n",
    "        \n",
    "    entropy_board = update_entropy(choices, rows, cols)\n",
    "info_history.append(deepcopy(info))\n",
    "# display canvas\n",
    "image = np.zeros(shape = (14*rows, 14*cols, 3))\n",
    "for row in range(rows):\n",
    "    for col in range(cols):\n",
    "        image[row*14:(row+1)*14, col*14:(col+1)*14, :] = tiles[int(info['canvas'][row, col])].img\n",
    "plt.figure(figsize=(6, 4))\n",
    "plt.imshow(image/255.0)\n",
    "np.save('output/history_full.npy', info_history_full)\n",
    "np.save('output/history.npy', info_history)"
   ]
  },
  {
   "cell_type": "code",
   "execution_count": 8,
   "metadata": {},
   "outputs": [
    {
     "data": {
      "text/plain": [
       "59"
      ]
     },
     "execution_count": 8,
     "metadata": {},
     "output_type": "execute_result"
    }
   ],
   "source": [
    "len(info_history)"
   ]
  },
  {
   "cell_type": "code",
   "execution_count": 9,
   "metadata": {},
   "outputs": [
    {
     "data": {
      "text/plain": [
       "371"
      ]
     },
     "execution_count": 9,
     "metadata": {},
     "output_type": "execute_result"
    }
   ],
   "source": [
    "len(info_history_full)"
   ]
  },
  {
   "cell_type": "code",
   "execution_count": 10,
   "metadata": {},
   "outputs": [],
   "source": [
    "images = []\n",
    "fourcc = cv2.VideoWriter_fourcc(*'XVID')\n",
    "fps = 15\n",
    "out = cv2.VideoWriter('output/wfc-circuit.mp4', fourcc, fps, (140, 84))\n",
    "for info in info_history_full:\n",
    "    image = np.zeros(shape = (14*rows, 14*cols, 3))\n",
    "    for row in range(rows):\n",
    "        for col in range(cols):\n",
    "            idx = int(info['canvas'][row, col])\n",
    "            if idx == -1:\n",
    "                idx = 0\n",
    "            image[row*14:(row+1)*14, col*14:(col+1)*14, :] = tiles[idx].img\n",
    "    image = image.astype(np.uint8)\n",
    "    out.write(image)\n",
    "    images.append(image)\n",
    "for i in range(2 * fps):\n",
    "    out.write(image.astype(np.uint8))\n",
    "    images.append(image)\n",
    "out.release()\n",
    "imageio.mimsave('output/wfc-circuit.gif', images)"
   ]
  },
  {
   "cell_type": "code",
   "execution_count": null,
   "metadata": {},
   "outputs": [],
   "source": []
  }
 ],
 "metadata": {
  "kernelspec": {
   "display_name": "Python 3",
   "language": "python",
   "name": "python3"
  },
  "language_info": {
   "codemirror_mode": {
    "name": "ipython",
    "version": 3
   },
   "file_extension": ".py",
   "mimetype": "text/x-python",
   "name": "python",
   "nbconvert_exporter": "python",
   "pygments_lexer": "ipython3",
   "version": "3.6.8"
  }
 },
 "nbformat": 4,
 "nbformat_minor": 4
}
